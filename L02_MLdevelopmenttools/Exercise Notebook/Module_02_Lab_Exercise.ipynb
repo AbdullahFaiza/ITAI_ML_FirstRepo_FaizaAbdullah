{
  "cells": [
    {
      "cell_type": "markdown",
      "metadata": {},
      "source": [
        "# Module 2 Lab Exercise: Tools Used in Machine Learning\n",
        "\n",
        "## Learning Objectives\n",
        "By the end of this lab, you will be able to:\n",
        "- Set up and navigate Jupyter Notebook, Google Colab, and VS Code environments\n",
        "- Install and import essential Python libraries for machine learning\n",
        "- Create and format professional documentation using Markdown\n",
        "- Initialize a GitHub repository for your ML projects\n",
        "- Understand the basic workflow of data science tools\n",
        "\n",
        "## Prerequisites\n",
        "- Basic understanding of what machine learning is (Module 1)\n",
        "- Access to internet for downloading tools and datasets\n",
        "- A Google account (for Colab) or local Python installation\n",
        "\n",
        "---\n",
        "\n",
        "## Part 1: Environment Setup and Tool Overview\n",
        "\n",
        "### What are the main tools we'll use in this course?\n",
        "\n",
        "**Jupyter Notebook/Google Colab**: Interactive computing environments where you can write code, see results immediately, and document your work with text and visualizations.\n",
        "\n",
        "**Python Libraries**: Pre-written code packages that make machine learning tasks easier:\n",
        "- **Pandas**: For working with data (like Excel, but more powerful)\n",
        "- **NumPy**: For mathematical operations on arrays of numbers\n",
        "- **Matplotlib**: For creating charts and graphs\n",
        "- **Scikit-learn**: The main library for machine learning algorithms\n",
        "\n",
        "**GitHub**: A platform to store, share, and collaborate on code projects\n",
        "\n",
        "**VS Code**: A powerful text editor for writing and debugging code\n",
        "\n",
        "Let's start by setting up our environment!"
      ]
    },
    {
      "cell_type": "markdown",
      "metadata": {},
      "source": [
        "## Environment Setup Instructions\n",
        "\n",
        "### Option 1: Google Colab (Recommended for Beginners)\n",
        "1. Go to [colab.research.google.com](https://colab.research.google.com)\n",
        "2. Sign in with your Google account\n",
        "3. Click \"New Notebook\"\n",
        "4. You're ready to go! Libraries are pre-installed.\n",
        "\n",
        "### Option 2: Local Jupyter Notebook\n",
        "1. Install Python from [python.org](https://python.org)\n",
        "2. Open terminal/command prompt\n",
        "3. Run: `pip install jupyter pandas numpy matplotlib scikit-learn`\n",
        "4. Run: `jupyter notebook`\n",
        "5. Create a new notebook\n",
        "\n",
        "### Option 3: VS Code\n",
        "1. Download VS Code from [code.visualstudio.com](https://code.visualstudio.com)\n",
        "2. Install Python extension\n",
        "3. Install Jupyter extension\n",
        "4. Create a new .ipynb file\n",
        "\n",
        "**For this lab, we recommend starting with Google Colab as it requires no installation.**"
      ]
    },
    {
      "cell_type": "code",
      "execution_count": null,
      "metadata": {},
      "outputs": [],
      "source": [
        "# Install required libraries (uncomment if needed)\n",
        "# !pip install pandas numpy matplotlib scikit-learn\n",
        "\n",
        "# Import libraries with standard aliases\n",
        "import pandas as pd\n",
        "import numpy as np\n",
        "import matplotlib.pyplot as plt\n",
        "from sklearn import datasets\n",
        "import warnings\n",
        "warnings.filterwarnings('ignore')  # Hide warning messages for cleaner output\n",
        "\n",
        "print(\"\u2705 All libraries imported successfully!\")\n",
        "print(f\"Pandas version: {pd.__version__}\")\n",
        "print(f\"NumPy version: {np.__version__}\")"
      ]
    },
    {
      "cell_type": "markdown",
      "metadata": {},
      "source": [
        "## Part 2: Loading and Exploring Your First Dataset\n",
        "\n",
        "We'll use the famous Iris dataset - a classic dataset for beginners. It contains measurements of iris flowers from three different species."
      ]
    },
    {
      "cell_type": "code",
      "execution_count": null,
      "metadata": {},
      "outputs": [],
      "source": [
        "# Load a simple dataset (Iris flowers - a classic beginner dataset)\n",
        "from sklearn.datasets import load_iris\n",
        "\n",
        "# Load the data\n",
        "iris = load_iris()\n",
        "print(\"Dataset loaded successfully!\")\n",
        "print(f\"Dataset shape: {iris.data.shape}\")\n",
        "print(f\"Features: {iris.feature_names}\")\n",
        "print(f\"Target classes: {iris.target_names}\")"
      ]
    },
    {
      "cell_type": "code",
      "execution_count": null,
      "metadata": {},
      "outputs": [],
      "source": [
        "# Convert to pandas DataFrame for easier handling\n",
        "df = pd.DataFrame(iris.data, columns=iris.feature_names)\n",
        "df['species'] = iris.target_names[iris.target]\n",
        "\n",
        "# Display first few rows\n",
        "print(\"First 5 rows of our dataset:\")\n",
        "print(df.head())\n",
        "\n",
        "print(\"\\nDataset info:\")\n",
        "print(df.info())"
      ]
    },
    {
      "cell_type": "markdown",
      "metadata": {},
      "source": [
        "## Part 3: Creating Your First Visualization\n",
        "\n",
        "Data visualization is crucial in machine learning. Let's create a simple plot to understand our data."
      ]
    },
    {
      "cell_type": "code",
      "execution_count": null,
      "metadata": {},
      "outputs": [],
      "source": [
        "# Create a simple scatter plot\n",
        "plt.figure(figsize=(10, 6))\n",
        "\n",
        "# Plot sepal length vs sepal width, colored by species\n",
        "species_colors = {'setosa': 'red', 'versicolor': 'blue', 'virginica': 'green'}\n",
        "\n",
        "for species in df['species'].unique():\n",
        "    species_data = df[df['species'] == species]\n",
        "    plt.scatter(species_data['sepal length (cm)'], \n",
        "                species_data['sepal width (cm)'],\n",
        "                c=species_colors[species], \n",
        "                label=species, \n",
        "                alpha=0.7)\n",
        "\n",
        "plt.xlabel('Sepal Length (cm)')\n",
        "plt.ylabel('Sepal Width (cm)')\n",
        "plt.title('Iris Dataset: Sepal Length vs Sepal Width')\n",
        "plt.legend()\n",
        "plt.grid(True, alpha=0.3)\n",
        "plt.show()\n",
        "\n",
        "print(\"\ud83c\udf89 Congratulations! You've created your first data visualization!\")"
      ]
    },
    {
      "cell_type": "markdown",
      "metadata": {},
      "source": [
        "## Part 4: Practice with Basic Data Operations\n",
        "\n",
        "Let's practice some basic data analysis operations that you'll use throughout the course."
      ]
    },
    {
      "cell_type": "code",
      "execution_count": null,
      "metadata": {},
      "outputs": [],
      "source": [
        "# Basic statistical analysis\n",
        "print(\"Basic Statistics for Iris Dataset:\")\n",
        "print(\"=\" * 40)\n",
        "\n",
        "# Calculate mean values for each species\n",
        "species_means = df.groupby('species').mean()\n",
        "print(\"\\nMean values by species:\")\n",
        "print(species_means)\n",
        "\n",
        "# Count samples per species\n",
        "species_counts = df['species'].value_counts()\n",
        "print(\"\\nSamples per species:\")\n",
        "print(species_counts)"
      ]
    },
    {
      "cell_type": "markdown",
      "metadata": {},
      "source": [
        "## Part 5: GitHub and Documentation Best Practices\n",
        "\n",
        "### Why GitHub for Machine Learning?\n",
        "- **Version Control**: Track changes to your code and data\n",
        "- **Collaboration**: Work with others on projects\n",
        "- **Portfolio**: Showcase your work to potential employers\n",
        "- **Backup**: Never lose your work\n",
        "\n",
        "### Basic GitHub Workflow:\n",
        "1. **Create Repository**: A folder for your project\n",
        "2. **Clone/Download**: Get the project on your computer\n",
        "3. **Add Files**: Put your notebooks and data\n",
        "4. **Commit**: Save a snapshot of your changes\n",
        "5. **Push**: Upload changes to GitHub\n",
        "\n",
        "### For This Course:\n",
        "- Create a repository named \"ITAI-1371-ML-Labs\"\n",
        "- Upload each lab notebook as you complete it\n",
        "- Include a README.md file describing your projects\n",
        "\n",
        "**Action Item**: After this lab, create your GitHub account and repository."
      ]
    },
    {
      "cell_type": "markdown",
      "metadata": {},
      "source": [
        "## Assessment: Tool Familiarity Check\n",
        "\n",
        "Complete the following tasks to demonstrate your understanding of the tools:"
      ]
    },
    {
      "cell_type": "code",
      "execution_count": null,
      "metadata": {},
      "outputs": [],
      "source": [
        "# Task 1: Create a simple calculation using NumPy\n",
        "# Calculate the mean and standard deviation of sepal length\n",
        "\n",
        "sepal_lengths = df['sepal length (cm)']\n",
        "\n",
        "# Your code here:\n",
        "mean_sepal_length = np.mean(sepal_lengths)\n",
        "std_sepal_length = np.std(sepal_lengths)\n",
        "\n",
        "print(f\"Mean sepal length: {mean_sepal_length:.2f} cm\")\n",
        "print(f\"Standard deviation: {std_sepal_length:.2f} cm\")\n",
        "\n",
        "# Verification (don't modify)\n",
        "assert isinstance(mean_sepal_length, (float, np.floating)), \"Mean should be a number\"\n",
        "assert isinstance(std_sepal_length, (float, np.floating)), \"Std should be a number\"\n",
        "print(\"\u2705 Task 1 completed successfully!\")"
      ]
    },
    {
      "cell_type": "code",
      "execution_count": null,
      "metadata": {},
      "outputs": [],
      "source": [
        "# Task 2: Create a simple bar chart showing species counts\n",
        "species_counts = df['species'].value_counts()\n",
        "\n",
        "plt.figure(figsize=(8, 5))\n",
        "plt.bar(species_counts.index, species_counts.values, color=['red', 'blue', 'green'])\n",
        "plt.title('Number of Samples per Species')\n",
        "plt.xlabel('Species')\n",
        "plt.ylabel('Count')\n",
        "plt.show()\n",
        "\n",
        "print(f\"Species distribution: {dict(species_counts)}\")\n",
        "print(\"\u2705 Task 2 completed successfully!\")"
      ]
    },
    {
      "cell_type": "markdown",
      "metadata": {},
      "source": [
        "## Your Analysis and Reflection\n",
        "\n",
        "**Instructions**: Complete the analysis below by editing this markdown cell.\n",
        "\n",
        "### My Observations About the Iris Dataset\n",
        "\n",
        "**Dataset Overview:**\n",
        "- Number of samples: [FILL IN]\n",
        "- Number of features: [FILL IN]\n",
        "- Number of classes: [FILL IN]\n",
        "\n",
        "**Key Findings from the Visualization:**\n",
        "1. [Write your observation about the scatter plot]\n",
        "2. [Write another observation]\n",
        "3. [Write a third observation]\n",
        "\n",
        "**Questions for Further Investigation:**\n",
        "- [Write a question you'd like to explore]\n",
        "- [Write another question]\n",
        "\n",
        "**Reflection:**\n",
        "*In 2-3 sentences, describe what you learned about using these tools.*\n",
        "\n",
        "---\n",
        "*Note: This is practice for documenting your machine learning projects professionally.*"
      ]
    },
    {
      "cell_type": "markdown",
      "metadata": {},
      "source": [
        "## Lab Summary and Next Steps\n",
        "\n",
        "### What You've Accomplished:\n",
        "\u2705 Set up your machine learning development environment  \n",
        "\u2705 Imported and used essential Python libraries  \n",
        "\u2705 Loaded and explored your first dataset  \n",
        "\u2705 Created your first data visualization  \n",
        "\u2705 Practiced professional documentation with Markdown  \n",
        "\u2705 Learned about GitHub for project management  \n",
        "\n",
        "### Preparation for Module 3:\n",
        "In the next lab, you'll:\n",
        "- Learn about different types of machine learning\n",
        "- Build your first simple classifier\n",
        "- Understand the complete ML workflow\n",
        "- Work with more complex datasets\n",
        "\n",
        "### Action Items:\n",
        "1. **Create your GitHub account** and repository\n",
        "2. **Upload this completed notebook** to your repository\n",
        "3. **Experiment** with different visualizations using the Iris dataset\n",
        "4. **Practice** Markdown formatting in a new notebook\n",
        "\n",
        "### Resources for Continued Learning:\n",
        "- [Pandas Documentation](https://pandas.pydata.org/docs/)\n",
        "- [Matplotlib Gallery](https://matplotlib.org/stable/gallery/)\n",
        "- [GitHub Guides](https://guides.github.com/)\n",
        "- [Jupyter Notebook Tips](https://jupyter-notebook.readthedocs.io/)\n",
        "\n",
        "**Great job completing Module 2! You're now equipped with the essential tools for machine learning.** \ud83c\udf89"
      ]
    }
  ],
  "metadata": {
    "kernelspec": {
      "display_name": "Python 3",
      "language": "python",
      "name": "python3"
    },
    "language_info": {
      "codemirror_mode": {
        "name": "ipython",
        "version": 3
      },
      "file_extension": ".py",
      "mimetype": "text/x-python",
      "name": "python",
      "nbconvert_exporter": "python",
      "pygments_lexer": "ipython3",
      "version": "3.8.5"
    }
  },
  "nbformat": 4,
  "nbformat_minor": 4
}